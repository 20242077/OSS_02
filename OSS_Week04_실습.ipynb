{
  "nbformat": 4,
  "nbformat_minor": 0,
  "metadata": {
    "colab": {
      "provenance": []
    },
    "kernelspec": {
      "name": "python3",
      "display_name": "Python 3"
    },
    "language_info": {
      "name": "python"
    }
  },
  "cells": [
    {
      "cell_type": "code",
      "source": [
        "print(\"20242077\")\n",
        "print(\"정재혁\")"
      ],
      "metadata": {
        "colab": {
          "base_uri": "https://localhost:8080/"
        },
        "id": "63OooiUthI08",
        "outputId": "fabbccbb-7934-4f80-9da3-54eaa71bdb10"
      },
      "execution_count": 5,
      "outputs": [
        {
          "output_type": "stream",
          "name": "stdout",
          "text": [
            "20242077\n",
            "정재혁\n"
          ]
        }
      ]
    },
    {
      "cell_type": "code",
      "execution_count": 6,
      "metadata": {
        "colab": {
          "base_uri": "https://localhost:8080/"
        },
        "id": "kVjBYYPmgkyD",
        "outputId": "74270036-11fc-4beb-8db4-fa5f1ff454fa"
      },
      "outputs": [
        {
          "output_type": "stream",
          "name": "stdout",
          "text": [
            "[36, 42, 38, 33, 64]\n"
          ]
        }
      ],
      "source": [
        "#예제1\n",
        "symbols = \"$*&!@\"\n",
        "codes = []\n",
        "\n",
        "for symbol in symbols :\n",
        "  codes.append(ord(symbol))\n",
        "print(codes)"
      ]
    },
    {
      "cell_type": "code",
      "source": [
        "#예제2\n",
        "symbols = \"$*&!@\"\n",
        "codes = [ord(symbol) for symbol in symbols]\n",
        "print(codes)"
      ],
      "metadata": {
        "colab": {
          "base_uri": "https://localhost:8080/"
        },
        "id": "Rlwz6fY_hNXy",
        "outputId": "4f4345f4-1d28-4b4b-cdb4-9116964359f7"
      },
      "execution_count": 7,
      "outputs": [
        {
          "output_type": "stream",
          "name": "stdout",
          "text": [
            "[36, 42, 38, 33, 64]\n"
          ]
        }
      ]
    },
    {
      "cell_type": "code",
      "source": [
        "#예제3\n",
        "x = '\"!~$$*&!@'\n",
        "dummy = [ord(x) for x in x]\n",
        "print(x)\n",
        "print(dummy)"
      ],
      "metadata": {
        "colab": {
          "base_uri": "https://localhost:8080/"
        },
        "id": "0sw7BzRahcmI",
        "outputId": "466219e5-5b69-4529-9ba8-6ccd89f2e09e"
      },
      "execution_count": 9,
      "outputs": [
        {
          "output_type": "stream",
          "name": "stdout",
          "text": [
            "\"!~$$*&!@\n",
            "[34, 33, 126, 36, 36, 42, 38, 33, 64]\n"
          ]
        }
      ]
    },
    {
      "cell_type": "code",
      "source": [
        "#예제4\n",
        "symbols = '\"!~$$*&!@'\n",
        "beyond_ascii = [ord(s) for s in symbols if ord(s) > 32]\n",
        "print(beyond_ascii)"
      ],
      "metadata": {
        "colab": {
          "base_uri": "https://localhost:8080/"
        },
        "id": "H3kvWIjnhnPz",
        "outputId": "4d189b36-6443-41d8-e069-550b8a31ddf9"
      },
      "execution_count": 10,
      "outputs": [
        {
          "output_type": "stream",
          "name": "stdout",
          "text": [
            "[34, 33, 126, 36, 36, 42, 38, 33, 64]\n"
          ]
        }
      ]
    },
    {
      "cell_type": "code",
      "source": [
        "#예제5\n",
        "symbols = '\"!~$$*&!@'\n",
        "beyond_ascii = list(filter(lambda c: c>64, map(ord,symbols)))\n",
        "print(beyond_ascii, \"\\n\")\n",
        "print(f\"Map function:\\n>>>{map(ord, symbols)}\")\n",
        "print(f\"List after map:\\n>>> {list(map(ord, symbols))}\")"
      ],
      "metadata": {
        "colab": {
          "base_uri": "https://localhost:8080/"
        },
        "id": "yaUlGIPnh_A8",
        "outputId": "ecdf2f07-e1e7-4004-cee1-96ef26c58a96"
      },
      "execution_count": 13,
      "outputs": [
        {
          "output_type": "stream",
          "name": "stdout",
          "text": [
            "[126] \n",
            "\n",
            "Map function:\n",
            ">>><map object at 0x7cce46923d30>\n",
            "List after map:\n",
            ">>> [34, 33, 126, 36, 36, 42, 38, 33, 64]\n"
          ]
        }
      ]
    },
    {
      "cell_type": "code",
      "source": [
        "#예제6\n",
        "colors = ['black', 'white']\n",
        "sizes = ['S', 'M', 'L']\n",
        "tshirts = [(color, size) for color in colors for size in sizes]\n",
        "\n",
        "print(tshirts)\n",
        "\n",
        "for color in colors:\n",
        "    for size in sizes:\n",
        "        print((color, size))\n"
      ],
      "metadata": {
        "colab": {
          "base_uri": "https://localhost:8080/"
        },
        "id": "mBHUCZj0lav-",
        "outputId": "5db6c992-56d5-4fc4-c7c6-a13d9717d41d"
      },
      "execution_count": 14,
      "outputs": [
        {
          "output_type": "stream",
          "name": "stdout",
          "text": [
            "[('black', 'S'), ('black', 'M'), ('black', 'L'), ('white', 'S'), ('white', 'M'), ('white', 'L')]\n",
            "('black', 'S')\n",
            "('black', 'M')\n",
            "('black', 'L')\n",
            "('white', 'S')\n",
            "('white', 'M')\n",
            "('white', 'L')\n"
          ]
        }
      ]
    },
    {
      "cell_type": "code",
      "source": [
        "#예제7\n",
        "symbols = \"!#^&&#\"\n",
        "ord_s = tuple(ord(s) for s in symbols if ord(s))\n",
        "\n",
        "print(ord_s)"
      ],
      "metadata": {
        "colab": {
          "base_uri": "https://localhost:8080/"
        },
        "id": "Rgw0hORLlb28",
        "outputId": "cc45c0fe-133d-40f0-d9b2-5df903fee984"
      },
      "execution_count": 15,
      "outputs": [
        {
          "output_type": "stream",
          "name": "stdout",
          "text": [
            "(33, 35, 94, 38, 38, 35)\n"
          ]
        }
      ]
    },
    {
      "cell_type": "code",
      "source": [
        "#예제8\n",
        "colors = ['black', 'white']\n",
        "sizes = ['S', 'M', 'L']\n",
        "\n",
        "for tshirt in ('{} {}'.format(c, s) for s in sizes for c in colors):\n",
        "    print(tshirt)\n"
      ],
      "metadata": {
        "colab": {
          "base_uri": "https://localhost:8080/"
        },
        "id": "pn7YHB3xlfnx",
        "outputId": "445d8095-0410-44e0-800c-eda6faaa1826"
      },
      "execution_count": 16,
      "outputs": [
        {
          "output_type": "stream",
          "name": "stdout",
          "text": [
            "black S\n",
            "white S\n",
            "black M\n",
            "white M\n",
            "black L\n",
            "white L\n"
          ]
        }
      ]
    },
    {
      "cell_type": "code",
      "source": [
        "#예제9\n",
        "lax_coordinates = (33.9425, -118.408056)\n",
        "city, year, pop, chg, area = ('Tokyo', 2003, 32450, 0.66, 8014)\n",
        "traveler_ids = [\n",
        "    ('USA', '31195855'),\n",
        "    ('BRA', 'CE342567'),\n",
        "    ('ESP', 'XDA205856'),\n",
        "]\n",
        "\n",
        "for passport in sorted(traveler_ids):\n",
        "    print('%s/%s' % passport)\n",
        "    print('{}/{}'.format(passport[0], passport[1]))\n",
        "    print(f'{passport[0]}/{passport[1]}')"
      ],
      "metadata": {
        "colab": {
          "base_uri": "https://localhost:8080/"
        },
        "id": "BegDyjLUlfmU",
        "outputId": "332c4bed-bd8f-4dbe-be1b-72c4db11e1e0"
      },
      "execution_count": 17,
      "outputs": [
        {
          "output_type": "stream",
          "name": "stdout",
          "text": [
            "BRA/CE342567\n",
            "BRA/CE342567\n",
            "BRA/CE342567\n",
            "ESP/XDA205856\n",
            "ESP/XDA205856\n",
            "ESP/XDA205856\n",
            "USA/31195855\n",
            "USA/31195855\n",
            "USA/31195855\n"
          ]
        }
      ]
    },
    {
      "cell_type": "code",
      "source": [
        "#예제10\n",
        "for country, _ in traveler_ids :\n",
        "  print(country)"
      ],
      "metadata": {
        "colab": {
          "base_uri": "https://localhost:8080/"
        },
        "id": "5CPiCMbOlfko",
        "outputId": "123a7e5f-e8f8-4355-f5c0-9c170ead1863"
      },
      "execution_count": 18,
      "outputs": [
        {
          "output_type": "stream",
          "name": "stdout",
          "text": [
            "USA\n",
            "BRA\n",
            "ESP\n"
          ]
        }
      ]
    },
    {
      "cell_type": "code",
      "source": [
        "#예제11\n",
        "lax_coordinates = (33.9425, -118.408056)\n",
        "latitude, longitude = lax_coordinates\n",
        "print(latitude)\n",
        "print(longitude)"
      ],
      "metadata": {
        "colab": {
          "base_uri": "https://localhost:8080/"
        },
        "id": "uZz75GY-lfi3",
        "outputId": "c2fc2eae-a964-4247-9837-2c46de03151b"
      },
      "execution_count": 19,
      "outputs": [
        {
          "output_type": "stream",
          "name": "stdout",
          "text": [
            "33.9425\n",
            "-118.408056\n"
          ]
        }
      ]
    },
    {
      "cell_type": "code",
      "source": [
        "#예제12\n",
        "a = 10\n",
        "b = 20\n",
        "b, a = a, b\n",
        "print(a, b)"
      ],
      "metadata": {
        "colab": {
          "base_uri": "https://localhost:8080/"
        },
        "id": "AGk5zUxTlfgO",
        "outputId": "0f431a8b-f017-44cc-b4b6-ee1262def258"
      },
      "execution_count": 20,
      "outputs": [
        {
          "output_type": "stream",
          "name": "stdout",
          "text": [
            "20 10\n"
          ]
        }
      ]
    },
    {
      "cell_type": "code",
      "source": [
        "#예제13\n",
        "print(divmod(20, 8))\n",
        "\n",
        "t = (20, 8)\n",
        "print(divmod(*t))\n",
        "\n",
        "quotient, remainder = divmod(*t)\n",
        "print(quotient, remainder)\n"
      ],
      "metadata": {
        "colab": {
          "base_uri": "https://localhost:8080/"
        },
        "id": "ZUf_7YmYlfdd",
        "outputId": "46e0330b-cfed-4028-b435-aa54951146a6"
      },
      "execution_count": 21,
      "outputs": [
        {
          "output_type": "stream",
          "name": "stdout",
          "text": [
            "(2, 4)\n",
            "(2, 4)\n",
            "2 4\n"
          ]
        }
      ]
    },
    {
      "cell_type": "code",
      "source": [
        "#예제14\n",
        "import os\n",
        "_, filename = os.path.split('/home/luciano/.ssh/idrsa.pub')\n",
        "print(filename)\n"
      ],
      "metadata": {
        "colab": {
          "base_uri": "https://localhost:8080/"
        },
        "id": "QwXHvKFFlfbk",
        "outputId": "6420b27a-661e-46bc-b1f8-06198cb93e49"
      },
      "execution_count": 22,
      "outputs": [
        {
          "output_type": "stream",
          "name": "stdout",
          "text": [
            "idrsa.pub\n"
          ]
        }
      ]
    },
    {
      "cell_type": "code",
      "source": [
        "#예제15\n",
        "a, b, *rest = range(5)\n",
        "print(a, b, rest)\n",
        "\n",
        "a, b, *rest = range(3)\n",
        "print(a, b, rest)\n",
        "\n",
        "a, b, *rest = range(2)\n",
        "print(a, b, rest)"
      ],
      "metadata": {
        "colab": {
          "base_uri": "https://localhost:8080/"
        },
        "id": "SsTaU4f1lfZu",
        "outputId": "650ad4e8-5c82-4dbf-e3b5-a511800c40c9"
      },
      "execution_count": 23,
      "outputs": [
        {
          "output_type": "stream",
          "name": "stdout",
          "text": [
            "0 1 [2, 3, 4]\n",
            "0 1 [2]\n",
            "0 1 []\n"
          ]
        }
      ]
    },
    {
      "cell_type": "code",
      "source": [
        "#예제16\n",
        "a, *body, c, d = range(5)\n",
        "print(a, body, c, d)\n",
        "\n",
        "*head, b, c, d = range(5)\n",
        "print(head, b, c, d)"
      ],
      "metadata": {
        "colab": {
          "base_uri": "https://localhost:8080/"
        },
        "id": "T8vcisiilfLj",
        "outputId": "dc1008c6-0fb4-4060-f19d-568f1cfff4d1"
      },
      "execution_count": 24,
      "outputs": [
        {
          "output_type": "stream",
          "name": "stdout",
          "text": [
            "0 [1, 2] 3 4\n",
            "[0, 1] 2 3 4\n"
          ]
        }
      ]
    },
    {
      "cell_type": "code",
      "source": [
        "#예제17\n",
        "metro_areas = [\n",
        "    ('Tokyo', 'JP', 36.933, (35, 139)),\n",
        "    ('Delhi NCR', 'IN', 21, (28, 77)),\n",
        "    ('Mexico City', 'MX', 20, (19, -99)),\n",
        "    ('New York-Newark', 'US', 20, (40, -74)),\n",
        "    ('Sao Paulo', 'BR', 19, (-23, -46)),\n",
        "]\n",
        "\n",
        "print('{:15} | {:9} | {:9}'.format('name', 'lat.', 'long.'))\n",
        "fmt = '{:15} | {:9.4f} | {:9.4f}'\n",
        "\n",
        "for name, cc, pop, (lat, longi) in metro_areas:\n",
        "    if longi <= 0:\n",
        "        print(fmt.format(name, lat, longi))"
      ],
      "metadata": {
        "colab": {
          "base_uri": "https://localhost:8080/"
        },
        "id": "llkVVcnSlhc3",
        "outputId": "cb5e187d-90dd-4951-d7ee-991434e735dc"
      },
      "execution_count": 25,
      "outputs": [
        {
          "output_type": "stream",
          "name": "stdout",
          "text": [
            "name            | lat.      | long.    \n",
            "Mexico City     |   19.0000 |  -99.0000\n",
            "New York-Newark |   40.0000 |  -74.0000\n",
            "Sao Paulo       |  -23.0000 |  -46.0000\n"
          ]
        }
      ]
    },
    {
      "cell_type": "code",
      "source": [
        "#예제18\n",
        "from collections import namedtuple\n",
        "\n",
        "City = namedtuple('City', 'name country population coordinates')\n",
        "tokyo = City('Tokyo', 'JP', 36.933, (35.689, 139.691))\n",
        "\n",
        "print(tokyo)\n",
        "print(tokyo.population)\n",
        "print(tokyo.coordinates)\n",
        "print(tokyo[1])"
      ],
      "metadata": {
        "colab": {
          "base_uri": "https://localhost:8080/"
        },
        "id": "GOTRNvRQlhbM",
        "outputId": "a0478eff-2eeb-4688-c527-22b8eb5e4bc0"
      },
      "execution_count": 26,
      "outputs": [
        {
          "output_type": "stream",
          "name": "stdout",
          "text": [
            "City(name='Tokyo', country='JP', population=36.933, coordinates=(35.689, 139.691))\n",
            "36.933\n",
            "(35.689, 139.691)\n",
            "JP\n"
          ]
        }
      ]
    },
    {
      "cell_type": "code",
      "source": [
        "#예제19\n",
        "from collections import namedtuple\n",
        "\n",
        "City = namedtuple('City', 'name country population coordinates')\n",
        "LatLong = namedtuple('LatLong', 'lat long')\n",
        "\n",
        "delhi_data = ('Delhi NCR', 'IN', 21.935, LatLong(28.613, 77.208))\n",
        "delhi = City._make(delhi_data)\n",
        "print(delhi._asdict())\n",
        "\n",
        "for key, value in delhi._asdict().items():\n",
        "    print(key + ':', value)"
      ],
      "metadata": {
        "colab": {
          "base_uri": "https://localhost:8080/"
        },
        "id": "ZvLGKclMlhZt",
        "outputId": "b6299a08-475f-4ae4-c2d6-76210a4f53f2"
      },
      "execution_count": 27,
      "outputs": [
        {
          "output_type": "stream",
          "name": "stdout",
          "text": [
            "{'name': 'Delhi NCR', 'country': 'IN', 'population': 21.935, 'coordinates': LatLong(lat=28.613, long=77.208)}\n",
            "name: Delhi NCR\n",
            "country: IN\n",
            "population: 21.935\n",
            "coordinates: LatLong(lat=28.613, long=77.208)\n"
          ]
        }
      ]
    },
    {
      "cell_type": "code",
      "source": [
        "#예제20\n",
        "l = [10, 20, 30, 40, 50, 60]\n",
        "print(l[:2])     # [10, 20]\n",
        "print(l[2:5])    # [30, 40, 50]\n",
        "print(l[3:])     # [40, 50, 60]"
      ],
      "metadata": {
        "colab": {
          "base_uri": "https://localhost:8080/"
        },
        "id": "4gjg6jNRlhX3",
        "outputId": "66ce4ef2-6d5e-4ff9-aba3-64a2085c8721"
      },
      "execution_count": 28,
      "outputs": [
        {
          "output_type": "stream",
          "name": "stdout",
          "text": [
            "[10, 20]\n",
            "[30, 40, 50]\n",
            "[40, 50, 60]\n"
          ]
        }
      ]
    },
    {
      "cell_type": "code",
      "source": [
        "#예제21\n",
        "invoice = \"\"\"\n",
        "0.....6........................25...........33..........40........\n",
        "1909  Pimoroni PiBrella         $17.50      3           $52.50\n",
        "1489  6mm Tactile Switch x20    $4.95       2           $9.90\n",
        "\"\"\"\n",
        "\n",
        "SKU = slice(0, 6)\n",
        "DESCRIPTION = slice(6, 25)\n",
        "UNIT_PRICE = slice(25, 33)\n",
        "QUANTITY = slice(33, 40)\n",
        "ITEM_TOTAL = slice(40, None)\n",
        "\n",
        "line_items = invoice.split('\\n')[2:]\n",
        "\n",
        "for item in line_items:\n",
        "    print(item[UNIT_PRICE], item[DESCRIPTION])"
      ],
      "metadata": {
        "colab": {
          "base_uri": "https://localhost:8080/"
        },
        "id": "qUVRlZcGlhWk",
        "outputId": "849fba71-59cd-4900-ace6-fb91bc978461"
      },
      "execution_count": 29,
      "outputs": [
        {
          "output_type": "stream",
          "name": "stdout",
          "text": [
            "       $ Pimoroni PiBrella  \n",
            "x20    $ 6mm Tactile Switch \n",
            " \n"
          ]
        }
      ]
    },
    {
      "cell_type": "code",
      "source": [
        "#예제22\n",
        "l = list(range(10))\n",
        "print(l)\n",
        "\n",
        "l[2:5] = [20, 30]\n",
        "print(l)\n",
        "\n",
        "del l[5:7]\n",
        "print(l)\n",
        "\n",
        "l[3:2] = [11, 22]\n",
        "print(l)"
      ],
      "metadata": {
        "colab": {
          "base_uri": "https://localhost:8080/"
        },
        "id": "zvc2EicclhVO",
        "outputId": "35fbd178-31e4-4921-8a3f-1f99c605e49d"
      },
      "execution_count": 30,
      "outputs": [
        {
          "output_type": "stream",
          "name": "stdout",
          "text": [
            "[0, 1, 2, 3, 4, 5, 6, 7, 8, 9]\n",
            "[0, 1, 20, 30, 5, 6, 7, 8, 9]\n",
            "[0, 1, 20, 30, 5, 8, 9]\n",
            "[0, 1, 20, 11, 22, 30, 5, 8, 9]\n"
          ]
        }
      ]
    },
    {
      "cell_type": "code",
      "source": [
        "#예제23\n",
        "l = list(range(10))"
      ],
      "metadata": {
        "id": "Pc1fjfzslhTZ"
      },
      "execution_count": 31,
      "outputs": []
    },
    {
      "cell_type": "code",
      "source": [
        "#예제24\n",
        "l = list(range(10))\n",
        "l[2:5] = [100]\n",
        "print(l)"
      ],
      "metadata": {
        "colab": {
          "base_uri": "https://localhost:8080/"
        },
        "id": "onMoUkC5lqMH",
        "outputId": "c1e57ec7-d36f-405f-eeaf-ea4a1d272d3c"
      },
      "execution_count": 32,
      "outputs": [
        {
          "output_type": "stream",
          "name": "stdout",
          "text": [
            "[0, 1, 100, 5, 6, 7, 8, 9]\n"
          ]
        }
      ]
    },
    {
      "cell_type": "code",
      "source": [
        "#예제25\n",
        "l = [1, 2, 3]\n",
        "print(l * 5)\n",
        "\n",
        "print(5 * 'abcd')"
      ],
      "metadata": {
        "colab": {
          "base_uri": "https://localhost:8080/"
        },
        "id": "FS0IoYydluje",
        "outputId": "57b9be81-b7f7-488a-9aa2-8aed4b5959e0"
      },
      "execution_count": 33,
      "outputs": [
        {
          "output_type": "stream",
          "name": "stdout",
          "text": [
            "[1, 2, 3, 1, 2, 3, 1, 2, 3, 1, 2, 3, 1, 2, 3]\n",
            "abcdabcdabcdabcdabcd\n"
          ]
        }
      ]
    },
    {
      "cell_type": "code",
      "source": [
        "#예제26\n",
        "board = [['_'] * 3 for i in range(3)]\n",
        "print(board)\n",
        "\n",
        "board[1][2] = 'X'\n",
        "print(board)"
      ],
      "metadata": {
        "colab": {
          "base_uri": "https://localhost:8080/"
        },
        "id": "O_USCA1flsWf",
        "outputId": "4e337d98-87ea-4f2a-a50e-21332bf2797a"
      },
      "execution_count": 34,
      "outputs": [
        {
          "output_type": "stream",
          "name": "stdout",
          "text": [
            "[['_', '_', '_'], ['_', '_', '_'], ['_', '_', '_']]\n",
            "[['_', '_', '_'], ['_', '_', 'X'], ['_', '_', '_']]\n"
          ]
        }
      ]
    },
    {
      "cell_type": "code",
      "source": [
        "#예제27\n",
        "weird_board = [['_'] * 3] * 3\n",
        "print(weird_board)\n",
        "\n",
        "weird_board[1][2] = '0'\n",
        "print(weird_board)"
      ],
      "metadata": {
        "colab": {
          "base_uri": "https://localhost:8080/"
        },
        "id": "5iNt1im8lsUF",
        "outputId": "f61f1bb7-c121-4eb0-a533-3420f141a363"
      },
      "execution_count": 35,
      "outputs": [
        {
          "output_type": "stream",
          "name": "stdout",
          "text": [
            "[['_', '_', '_'], ['_', '_', '_'], ['_', '_', '_']]\n",
            "[['_', '_', '0'], ['_', '_', '0'], ['_', '_', '0']]\n"
          ]
        }
      ]
    },
    {
      "cell_type": "code",
      "source": [
        "#예제28\n",
        "row = ['_'] * 3\n",
        "board = []\n",
        "for i in range(3):\n",
        "    board.append(row)\n",
        "\n",
        "board[1][2] = 'X'\n",
        "print(board)"
      ],
      "metadata": {
        "colab": {
          "base_uri": "https://localhost:8080/"
        },
        "id": "GLVRMP_nlsNC",
        "outputId": "a73beba9-d81a-451f-93a7-0a3f4d577eb5"
      },
      "execution_count": 36,
      "outputs": [
        {
          "output_type": "stream",
          "name": "stdout",
          "text": [
            "[['_', '_', 'X'], ['_', '_', 'X'], ['_', '_', 'X']]\n"
          ]
        }
      ]
    },
    {
      "cell_type": "code",
      "source": [
        "#예제29\n",
        "board = []\n",
        "for i in range(3):\n",
        "    row = ['_'] * 3\n",
        "    board.append(row)\n",
        "\n",
        "print(board)\n",
        "board[2][0] = 'X'\n",
        "print(board)\n"
      ],
      "metadata": {
        "colab": {
          "base_uri": "https://localhost:8080/"
        },
        "id": "87JVbvFalsEr",
        "outputId": "61031062-7fa6-4450-d2ea-f1d962a5004d"
      },
      "execution_count": 37,
      "outputs": [
        {
          "output_type": "stream",
          "name": "stdout",
          "text": [
            "[['_', '_', '_'], ['_', '_', '_'], ['_', '_', '_']]\n",
            "[['_', '_', '_'], ['_', '_', '_'], ['X', '_', '_']]\n"
          ]
        }
      ]
    },
    {
      "cell_type": "code",
      "source": [
        "#예제30\n",
        "l = [1, 2, 3]\n",
        "print(id(l))\n",
        "\n",
        "l *= 2\n",
        "print(l)\n",
        "print(id(l))"
      ],
      "metadata": {
        "colab": {
          "base_uri": "https://localhost:8080/"
        },
        "id": "qTnr-Wfalv_-",
        "outputId": "b40b08ae-7792-4848-a282-3d378c45cb56"
      },
      "execution_count": 38,
      "outputs": [
        {
          "output_type": "stream",
          "name": "stdout",
          "text": [
            "137225379636992\n",
            "[1, 2, 3, 1, 2, 3]\n",
            "137225379636992\n"
          ]
        }
      ]
    },
    {
      "cell_type": "code",
      "source": [
        "#예제31\n",
        "t = (1, 2, 3)\n",
        "print(id(t))\n",
        "\n",
        "t *= 2\n",
        "print(t)\n",
        "print(id(t))"
      ],
      "metadata": {
        "colab": {
          "base_uri": "https://localhost:8080/"
        },
        "id": "A66qs2nflxFR",
        "outputId": "91737ac2-1633-4128-b771-3703938e534d"
      },
      "execution_count": 39,
      "outputs": [
        {
          "output_type": "stream",
          "name": "stdout",
          "text": [
            "137226219904128\n",
            "(1, 2, 3, 1, 2, 3)\n",
            "137225375705760\n"
          ]
        }
      ]
    },
    {
      "cell_type": "code",
      "source": [
        "#예제32\n",
        "t = (1, 2, [30, 40])\n",
        "print(t)\n",
        "\n",
        "t[2] += [50, 60]   # TypeError 발생!\n",
        "print(t)\n",
        "\"\"\"\n",
        "퀴즈 해설:\n",
        "a. (1, 2, [30, 40, 50, 60]) 이 된다. ❌\n",
        "b. 튜플 객체는 항목 할당을 지원하지 않는다 에러 발생. ⭕\n",
        "c. a와 b 둘 다 틀리다. ❌\n",
        "d. a와 b 둘 다 맞다. ❌\n",
        "정답: b\n",
        "\"\"\"\n"
      ],
      "metadata": {
        "colab": {
          "base_uri": "https://localhost:8080/",
          "height": 237
        },
        "id": "UWFTRo5clx1M",
        "outputId": "9d3795ea-ef8e-4149-d786-abf040eec40b"
      },
      "execution_count": 40,
      "outputs": [
        {
          "output_type": "stream",
          "name": "stdout",
          "text": [
            "(1, 2, [30, 40])\n"
          ]
        },
        {
          "output_type": "error",
          "ename": "TypeError",
          "evalue": "'tuple' object does not support item assignment",
          "traceback": [
            "\u001b[0;31m---------------------------------------------------------------------------\u001b[0m",
            "\u001b[0;31mTypeError\u001b[0m                                 Traceback (most recent call last)",
            "\u001b[0;32m/tmp/ipython-input-4278527515.py\u001b[0m in \u001b[0;36m<cell line: 0>\u001b[0;34m()\u001b[0m\n\u001b[1;32m      3\u001b[0m \u001b[0mprint\u001b[0m\u001b[0;34m(\u001b[0m\u001b[0mt\u001b[0m\u001b[0;34m)\u001b[0m\u001b[0;34m\u001b[0m\u001b[0;34m\u001b[0m\u001b[0m\n\u001b[1;32m      4\u001b[0m \u001b[0;34m\u001b[0m\u001b[0m\n\u001b[0;32m----> 5\u001b[0;31m \u001b[0mt\u001b[0m\u001b[0;34m[\u001b[0m\u001b[0;36m2\u001b[0m\u001b[0;34m]\u001b[0m \u001b[0;34m+=\u001b[0m \u001b[0;34m[\u001b[0m\u001b[0;36m50\u001b[0m\u001b[0;34m,\u001b[0m \u001b[0;36m60\u001b[0m\u001b[0;34m]\u001b[0m   \u001b[0;31m# TypeError 발생!\u001b[0m\u001b[0;34m\u001b[0m\u001b[0;34m\u001b[0m\u001b[0m\n\u001b[0m\u001b[1;32m      6\u001b[0m \u001b[0mprint\u001b[0m\u001b[0;34m(\u001b[0m\u001b[0mt\u001b[0m\u001b[0;34m)\u001b[0m\u001b[0;34m\u001b[0m\u001b[0;34m\u001b[0m\u001b[0m\n\u001b[1;32m      7\u001b[0m \"\"\"\n",
            "\u001b[0;31mTypeError\u001b[0m: 'tuple' object does not support item assignment"
          ]
        }
      ]
    },
    {
      "cell_type": "code",
      "source": [
        "#예제33\n",
        "print(t)"
      ],
      "metadata": {
        "colab": {
          "base_uri": "https://localhost:8080/"
        },
        "id": "RfOtmMmdlxzy",
        "outputId": "7934767b-9b19-4179-9981-c15c62dcc97b"
      },
      "execution_count": 41,
      "outputs": [
        {
          "output_type": "stream",
          "name": "stdout",
          "text": [
            "(1, 2, [30, 40, 50, 60])\n"
          ]
        }
      ]
    },
    {
      "cell_type": "code",
      "source": [
        "#예제34\n",
        "fruits = ['grape', 'raspberry', 'apple', 'banana']\n",
        "print(sorted(fruits))\n",
        "print(fruits)\n",
        "\n",
        "print(sorted(fruits, reverse=True))\n",
        "print(sorted(fruits, key=len))"
      ],
      "metadata": {
        "colab": {
          "base_uri": "https://localhost:8080/"
        },
        "id": "qZsFeGMelxxT",
        "outputId": "e1fc040d-2899-4177-a0d9-7755e8ff184c"
      },
      "execution_count": 42,
      "outputs": [
        {
          "output_type": "stream",
          "name": "stdout",
          "text": [
            "['apple', 'banana', 'grape', 'raspberry']\n",
            "['grape', 'raspberry', 'apple', 'banana']\n",
            "['raspberry', 'grape', 'banana', 'apple']\n",
            "['grape', 'apple', 'banana', 'raspberry']\n"
          ]
        }
      ]
    },
    {
      "cell_type": "code",
      "source": [
        "#예제35\n",
        "print(sorted(fruits, key=len, reverse=True))\n",
        "print(fruits)\n",
        "\n",
        "fruits.sort()\n",
        "print(fruits)"
      ],
      "metadata": {
        "colab": {
          "base_uri": "https://localhost:8080/"
        },
        "id": "473dLOzAlxvc",
        "outputId": "7a69f8f3-f1e7-4922-e6de-cbfde9b2cecb"
      },
      "execution_count": 43,
      "outputs": [
        {
          "output_type": "stream",
          "name": "stdout",
          "text": [
            "['raspberry', 'banana', 'grape', 'apple']\n",
            "['grape', 'raspberry', 'apple', 'banana']\n",
            "['apple', 'banana', 'grape', 'raspberry']\n"
          ]
        }
      ]
    },
    {
      "cell_type": "code",
      "source": [
        "#예제36\n",
        "from array import array\n",
        "from random import random\n",
        "\n",
        "floats = array('d', (random() for _ in range(10**7)))\n",
        "print(floats[-1])"
      ],
      "metadata": {
        "colab": {
          "base_uri": "https://localhost:8080/"
        },
        "id": "n369X4IWlxoV",
        "outputId": "867a1aff-e6c2-4272-9850-e278d5942258"
      },
      "execution_count": 44,
      "outputs": [
        {
          "output_type": "stream",
          "name": "stdout",
          "text": [
            "0.010678297958245375\n"
          ]
        }
      ]
    },
    {
      "cell_type": "code",
      "source": [
        "#예제37\n",
        "with open('floats.bin', 'wb') as f:\n",
        "    floats.tofile(f)\n",
        "\n",
        "floats2 = array('d')\n",
        "with open('floats.bin', 'rb') as f:\n",
        "    floats2.fromfile(f, 10**7)\n",
        "\n",
        "print(floats2[-1])\n",
        "print(floats == floats2)"
      ],
      "metadata": {
        "colab": {
          "base_uri": "https://localhost:8080/"
        },
        "id": "DsAXUW_4lxhS",
        "outputId": "85f7ca48-d387-42f9-efbe-b581f426f365"
      },
      "execution_count": 45,
      "outputs": [
        {
          "output_type": "stream",
          "name": "stdout",
          "text": [
            "0.010678297958245375\n",
            "True\n"
          ]
        }
      ]
    },
    {
      "cell_type": "code",
      "source": [
        "#예제38\n",
        "# 예제 38. 배열 항목 값의 바이트 중 하나 변경\n",
        "import array\n",
        "\n",
        "numbers = array.array('h', [-2, -1, 0, 1, 2])   # 'h' = signed short (2바이트)\n",
        "memv = memoryview(numbers)\n",
        "\n",
        "print(len(memv))        # 5\n",
        "print(memv[0])          # -2\n",
        "\n",
        "memv_oct = memv.cast('B')   # 'B' = unsigned char (1바이트)\n",
        "print(memv_oct.tolist())    # [254, 255, 255, 255, 0, 0, 1, 0, 2, 0]\n",
        "\n",
        "memv_oct[5] = 4\n",
        "print(numbers)          # array('h', [-2, -1, 1024, 1, 2])"
      ],
      "metadata": {
        "colab": {
          "base_uri": "https://localhost:8080/"
        },
        "id": "pwjzQy3jl2fg",
        "outputId": "084d8195-bfb4-4648-eeb7-15926cb3fbef"
      },
      "execution_count": 46,
      "outputs": [
        {
          "output_type": "stream",
          "name": "stdout",
          "text": [
            "5\n",
            "-2\n",
            "[254, 255, 255, 255, 0, 0, 1, 0, 2, 0]\n",
            "array('h', [-2, -1, 1024, 1, 2])\n"
          ]
        }
      ]
    },
    {
      "cell_type": "code",
      "source": [
        "#예제 38-1\n",
        "data = bytearray(b'hello world')\n",
        "mv = memoryview(data)\n",
        "\n",
        "print(mv[0])      # 104 ('h'의 아스키코드 값)\n",
        "mv[0] = 72        # 'h' → 'H' (원본 수정됨)\n",
        "\n",
        "print(data)       # bytearray(b'Hello world')"
      ],
      "metadata": {
        "colab": {
          "base_uri": "https://localhost:8080/"
        },
        "id": "NPgiYh1BqJQN",
        "outputId": "e3e8927f-5d19-4238-dfd3-ec4182297f34"
      },
      "execution_count": 47,
      "outputs": [
        {
          "output_type": "stream",
          "name": "stdout",
          "text": [
            "104\n",
            "bytearray(b'Hello world')\n"
          ]
        }
      ]
    },
    {
      "cell_type": "code",
      "source": [
        "#예제39\n",
        "import numpy\n",
        "a = numpy.arange(12)\n",
        "a"
      ],
      "metadata": {
        "colab": {
          "base_uri": "https://localhost:8080/"
        },
        "id": "6sKmCCJNl2cc",
        "outputId": "3c584fc2-44fd-43d4-c828-5b07c918b577"
      },
      "execution_count": 51,
      "outputs": [
        {
          "output_type": "execute_result",
          "data": {
            "text/plain": [
              "array([ 0,  1,  2,  3,  4,  5,  6,  7,  8,  9, 10, 11])"
            ]
          },
          "metadata": {},
          "execution_count": 51
        }
      ]
    },
    {
      "cell_type": "code",
      "source": [
        "type(a)"
      ],
      "metadata": {
        "colab": {
          "base_uri": "https://localhost:8080/"
        },
        "id": "6btDVtsUqcAH",
        "outputId": "028e8bfa-fe0d-486c-f4c3-cfb8340214d8"
      },
      "execution_count": 52,
      "outputs": [
        {
          "output_type": "execute_result",
          "data": {
            "text/plain": [
              "numpy.ndarray"
            ]
          },
          "metadata": {},
          "execution_count": 52
        }
      ]
    },
    {
      "cell_type": "code",
      "source": [
        "#예제40\n",
        "a.shape"
      ],
      "metadata": {
        "colab": {
          "base_uri": "https://localhost:8080/"
        },
        "id": "Tie6DUSul2ap",
        "outputId": "cdc9f3c7-7a7f-4637-e146-0998e504ccbe"
      },
      "execution_count": 53,
      "outputs": [
        {
          "output_type": "execute_result",
          "data": {
            "text/plain": [
              "(12,)"
            ]
          },
          "metadata": {},
          "execution_count": 53
        }
      ]
    },
    {
      "cell_type": "code",
      "source": [
        "a.shape = 3, 4\n",
        "a"
      ],
      "metadata": {
        "colab": {
          "base_uri": "https://localhost:8080/"
        },
        "id": "OerfhAv6qhIa",
        "outputId": "addf07f3-e600-4c00-fa72-a758ecb74a7b"
      },
      "execution_count": 54,
      "outputs": [
        {
          "output_type": "execute_result",
          "data": {
            "text/plain": [
              "array([[ 0,  1,  2,  3],\n",
              "       [ 4,  5,  6,  7],\n",
              "       [ 8,  9, 10, 11]])"
            ]
          },
          "metadata": {},
          "execution_count": 54
        }
      ]
    },
    {
      "cell_type": "code",
      "source": [
        "#예제41\n",
        "a[2]"
      ],
      "metadata": {
        "colab": {
          "base_uri": "https://localhost:8080/"
        },
        "id": "RMo3tLSRqlTc",
        "outputId": "a39f03cc-0404-440f-f8aa-3d5bf5b27555"
      },
      "execution_count": 56,
      "outputs": [
        {
          "output_type": "execute_result",
          "data": {
            "text/plain": [
              "array([ 8,  9, 10, 11])"
            ]
          },
          "metadata": {},
          "execution_count": 56
        }
      ]
    },
    {
      "cell_type": "code",
      "source": [
        "a[2, 1]"
      ],
      "metadata": {
        "colab": {
          "base_uri": "https://localhost:8080/"
        },
        "id": "uwyjUPPRqrnm",
        "outputId": "51391568-4e3b-4ff6-e29f-6eb269df0fd3"
      },
      "execution_count": 58,
      "outputs": [
        {
          "output_type": "execute_result",
          "data": {
            "text/plain": [
              "np.int64(9)"
            ]
          },
          "metadata": {},
          "execution_count": 58
        }
      ]
    },
    {
      "cell_type": "code",
      "source": [
        "a[:, 1]"
      ],
      "metadata": {
        "colab": {
          "base_uri": "https://localhost:8080/"
        },
        "id": "TcLHvqYlqwTy",
        "outputId": "b20b5715-1401-4d26-be0d-4b5845dfdc11"
      },
      "execution_count": 59,
      "outputs": [
        {
          "output_type": "execute_result",
          "data": {
            "text/plain": [
              "array([1, 5, 9])"
            ]
          },
          "metadata": {},
          "execution_count": 59
        }
      ]
    },
    {
      "cell_type": "code",
      "source": [
        "#예제42\n",
        "a.transpose()"
      ],
      "metadata": {
        "colab": {
          "base_uri": "https://localhost:8080/"
        },
        "id": "SSIrh5gOq3o5",
        "outputId": "6ca694cf-bade-498e-f84a-52e6af136e9f"
      },
      "execution_count": 60,
      "outputs": [
        {
          "output_type": "execute_result",
          "data": {
            "text/plain": [
              "array([[ 0,  4,  8],\n",
              "       [ 1,  5,  9],\n",
              "       [ 2,  6, 10],\n",
              "       [ 3,  7, 11]])"
            ]
          },
          "metadata": {},
          "execution_count": 60
        }
      ]
    }
  ]
}